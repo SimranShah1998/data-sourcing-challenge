{
 "cells": [
  {
   "cell_type": "code",
   "execution_count": 1,
   "id": "02c3fe1c-b070-42b5-a734-0dd75bc6ed93",
   "metadata": {},
   "outputs": [
    {
     "name": "stdout",
     "output_type": "stream",
     "text": [
      "API Key loaded: True\n"
     ]
    }
   ],
   "source": [
    "# Import the necessary libraries\n",
    "import requests  # For making web requests\n",
    "import pandas as pd  # For handling data tables\n",
    "import json  # For working with JSON data from the API\n",
    "import os  # For accessing environment variables\n",
    "from dotenv import load_dotenv  # To load API keys securely\n",
    "\n",
    "# Load the API key from .env file\n",
    "load_dotenv()  # This loads the .env file where the API key is stored\n",
    "api_key = os.getenv(\"API_KEY\")  # This retrieves the API key and stores it in a variable called api_key\n",
    "\n",
    "# Check that the API key loaded correctly\n",
    "print(\"API Key loaded:\", bool(api_key))  # This should print \"True\" if the key loaded correctly"
   ]
  },
  {
   "cell_type": "code",
   "execution_count": null,
   "id": "8426cdb5-a617-4a26-abd4-612d89668ccd",
   "metadata": {},
   "outputs": [],
   "source": []
  }
 ],
 "metadata": {
  "kernelspec": {
   "display_name": "Python 3 (ipykernel)",
   "language": "python",
   "name": "python3"
  },
  "language_info": {
   "codemirror_mode": {
    "name": "ipython",
    "version": 3
   },
   "file_extension": ".py",
   "mimetype": "text/x-python",
   "name": "python",
   "nbconvert_exporter": "python",
   "pygments_lexer": "ipython3",
   "version": "3.12.4"
  }
 },
 "nbformat": 4,
 "nbformat_minor": 5
}
